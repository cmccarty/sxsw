{
 "metadata": {
  "name": "Trip Advisor FAQs"
 },
 "nbformat": 3,
 "nbformat_minor": 0,
 "worksheets": [
  {
   "cells": [
    {
     "cell_type": "heading",
     "level": 1,
     "metadata": {},
     "source": [
      "Trip Advisor API FAQs"
     ]
    },
    {
     "cell_type": "markdown",
     "metadata": {},
     "source": [
      "<p>I'll do my best to answer any questions here, showing example code where useful.</p>\n",
      "<p>If you have any questions at all, send me an email at <a href=\"mailto:chris@tripadvisor.com\">chris@tripadvisor.com</a>, or ping my on Twitter <a href=\"https://twitter.com/cmccarty\">@cmccarty</a>.</p>"
     ]
    },
    {
     "cell_type": "heading",
     "level": 2,
     "metadata": {},
     "source": [
      "Where can I find the docs?"
     ]
    },
    {
     "cell_type": "markdown",
     "metadata": {},
     "source": [
      "You can find them at <a href=\"http://api.tripadvisor.com/api/mobex/1.1/doc?key=\">http://api.tripadvisor.com/api/mobex/1.1/doc?key=API_KEY</a>"
     ]
    },
    {
     "cell_type": "code",
     "collapsed": false,
     "input": [],
     "language": "python",
     "metadata": {},
     "outputs": []
    }
   ],
   "metadata": {}
  }
 ]
}